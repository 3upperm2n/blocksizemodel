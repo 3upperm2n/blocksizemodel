{
 "cells": [
  {
   "cell_type": "code",
   "execution_count": 86,
   "metadata": {
    "collapsed": false,
    "deletable": true,
    "editable": true
   },
   "outputs": [
    {
     "name": "stdout",
     "output_type": "stream",
     "text": [
      "The autoreload extension is already loaded. To reload it, use:\n",
      "  %reload_ext autoreload\n"
     ]
    }
   ],
   "source": [
    "%load_ext autoreload\n",
    "%autoreload 2\n",
    "\n",
    "import warnings\n",
    "import pandas as pd\n",
    "import numpy as np\n",
    "import os\n",
    "import sys # error msg, add the modules\n",
    "import operator # sorting\n",
    "from math import *\n",
    "import matplotlib.pyplot as plt\n",
    "\n",
    "sys.path.append('../')\n",
    "\n",
    "warnings.filterwarnings(\"ignore\", category=np.VisibleDeprecationWarning)\n",
    "\n",
    "import prep\n",
    "from warp import *"
   ]
  },
  {
   "cell_type": "code",
   "execution_count": 87,
   "metadata": {
    "collapsed": false,
    "deletable": true,
    "editable": true
   },
   "outputs": [],
   "source": [
    "target_kern_name = 'matrixMulCUDA'\n",
    "trace_file = 'trace64.csv'\n",
    "metrics_file = 'metrics64.csv'\n",
    "sass_result = 'mm8.sm52.sass.result'\n",
    "    \n",
    "# read trace and metrics into dataframe, from generated trace file\n",
    "df_kernel_trace, df_metrics = prep.Prep_trace_metrics(trace_file, metrics_file)\n",
    "    \n",
    "out_columns = prep.init_df_columns(df_metrics)\n",
    "df_kern = pd.DataFrame(columns=out_columns)\n",
    "    \n",
    "# current kernel trace\n",
    "df_current = prep.GenCurKernInfo(df_kernel_trace, df_metrics,target_kern_name, out_columns)\n",
    "    \n",
    "# add current trace\n",
    "df_kern = df_kern.append(df_current, ignore_index=True)"
   ]
  },
  {
   "cell_type": "code",
   "execution_count": 88,
   "metadata": {
    "collapsed": false,
    "deletable": true,
    "editable": true
   },
   "outputs": [
    {
     "data": {
      "text/html": [
       "<div>\n",
       "<table border=\"1\" class=\"dataframe\">\n",
       "  <thead>\n",
       "    <tr style=\"text-align: right;\">\n",
       "      <th></th>\n",
       "      <th>kern_name</th>\n",
       "      <th>duration_ms</th>\n",
       "      <th>gridx</th>\n",
       "      <th>gridy</th>\n",
       "      <th>gridz</th>\n",
       "      <th>blkx</th>\n",
       "      <th>blky</th>\n",
       "      <th>blkz</th>\n",
       "      <th>reg_per_thread</th>\n",
       "      <th>shared_mem</th>\n",
       "      <th>...</th>\n",
       "      <th>l2_utilization</th>\n",
       "      <th>l2_atomic_throughput</th>\n",
       "      <th>l2_atomic_transactions</th>\n",
       "      <th>sysmem_utilization</th>\n",
       "      <th>ecc_throughput</th>\n",
       "      <th>sysmem_read_utilization</th>\n",
       "      <th>sysmem_write_utilization</th>\n",
       "      <th>eligible_warps_per_cycle</th>\n",
       "      <th>flop_sp_efficiency</th>\n",
       "      <th>flop_dp_efficiency</th>\n",
       "    </tr>\n",
       "  </thead>\n",
       "  <tbody>\n",
       "    <tr>\n",
       "      <th>0</th>\n",
       "      <td>matrixmulcuda</td>\n",
       "      <td>0.489635</td>\n",
       "      <td>80.0</td>\n",
       "      <td>40.0</td>\n",
       "      <td>1.0</td>\n",
       "      <td>8.0</td>\n",
       "      <td>8.0</td>\n",
       "      <td>1.0</td>\n",
       "      <td>29.0</td>\n",
       "      <td>512.0</td>\n",
       "      <td>...</td>\n",
       "      <td>Mid (4)</td>\n",
       "      <td>0.000000B/s</td>\n",
       "      <td>0</td>\n",
       "      <td>Low (1)</td>\n",
       "      <td>0.000000B/s</td>\n",
       "      <td>Idle (0)</td>\n",
       "      <td>Low (1)</td>\n",
       "      <td>2.667005</td>\n",
       "      <td>11.992918%</td>\n",
       "      <td>0.000000%</td>\n",
       "    </tr>\n",
       "  </tbody>\n",
       "</table>\n",
       "<p>1 rows × 123 columns</p>\n",
       "</div>"
      ],
      "text/plain": [
       "       kern_name  duration_ms  gridx  gridy  gridz  blkx  blky  blkz  \\\n",
       "0  matrixmulcuda     0.489635   80.0   40.0    1.0   8.0   8.0   1.0   \n",
       "\n",
       "   reg_per_thread  shared_mem        ...         l2_utilization  \\\n",
       "0            29.0       512.0        ...                Mid (4)   \n",
       "\n",
       "  l2_atomic_throughput l2_atomic_transactions sysmem_utilization  \\\n",
       "0          0.000000B/s                      0            Low (1)   \n",
       "\n",
       "  ecc_throughput sysmem_read_utilization sysmem_write_utilization  \\\n",
       "0    0.000000B/s                Idle (0)                  Low (1)   \n",
       "\n",
       "  eligible_warps_per_cycle flop_sp_efficiency flop_dp_efficiency  \n",
       "0                 2.667005         11.992918%          0.000000%  \n",
       "\n",
       "[1 rows x 123 columns]"
      ]
     },
     "execution_count": 88,
     "metadata": {},
     "output_type": "execute_result"
    }
   ],
   "source": [
    "df_kern"
   ]
  },
  {
   "cell_type": "code",
   "execution_count": 89,
   "metadata": {
    "collapsed": true,
    "deletable": true,
    "editable": true
   },
   "outputs": [],
   "source": [
    "df_kern.to_csv('test_mm8.csv', index=False, encoding='utf-8')"
   ]
  },
  {
   "cell_type": "code",
   "execution_count": 90,
   "metadata": {
    "collapsed": false,
    "deletable": true,
    "editable": true
   },
   "outputs": [
    {
     "name": "stdout",
     "output_type": "stream",
     "text": [
      "\n",
      "Total running threads : 204800.0\n",
      "\n",
      "thread_fp_32: 320.0\n",
      "thread_fp_64: 0.0\n",
      "thread_integer: 549.0\n",
      "thread_bit_convert: 0.0\n",
      "thread_control: 40.0\n",
      "thread_compute_ld_st: 561.0\n",
      "thread_thread_misc: 90.0\n",
      "instructions per thread : 1560.0\n",
      "instructions per warp   : 1562.0\n",
      "ldg (global load) clks (per warp) \t = 13000.0\n",
      "stg (global store) clks (per warp) \t = 19.0\n",
      "lds (shared load) clks (per warp) \t =  390.0\n",
      "sts (shared store) clks (per warp) \t = 57.0\n",
      "=> Memory inst. (per warp) \t\t = 13466.0 (clocks)\n",
      "\n",
      "Integer inst. (per warp) \t= 8235.0 (clocks)\n",
      "FP32 inst. (per warp) \t\t= 4800.0 (clocks)\n",
      "FP64 inst. (per warp) \t\t= 0.0 (clocks)\n",
      "Compute ldst inst. (per warp) \t= 8415.0 (clocks)\n",
      "=> Compute inst. (per warp) \t= 21450.0 (clocks)\n",
      "\n",
      "Compute-intensive Warp\n"
     ]
    }
   ],
   "source": [
    "warp_inst = WarpInst()\n",
    "warp_inst.run(df_kern, sass_result)"
   ]
  }
 ],
 "metadata": {
  "kernelspec": {
   "display_name": "Python [conda root]",
   "language": "python",
   "name": "conda-root-py"
  },
  "language_info": {
   "codemirror_mode": {
    "name": "ipython",
    "version": 2
   },
   "file_extension": ".py",
   "mimetype": "text/x-python",
   "name": "python",
   "nbconvert_exporter": "python",
   "pygments_lexer": "ipython2",
   "version": "2.7.13"
  }
 },
 "nbformat": 4,
 "nbformat_minor": 2
}

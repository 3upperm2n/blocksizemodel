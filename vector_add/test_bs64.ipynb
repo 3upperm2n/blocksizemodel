{
 "cells": [
  {
   "cell_type": "code",
   "execution_count": 1,
   "metadata": {
    "collapsed": false,
    "deletable": true,
    "editable": true
   },
   "outputs": [],
   "source": [
    "%load_ext autoreload\n",
    "%autoreload 2\n",
    "\n",
    "import warnings\n",
    "import pandas as pd\n",
    "import numpy as np\n",
    "import os\n",
    "import sys # error msg, add the modules\n",
    "import operator # sorting\n",
    "from math import *\n",
    "import matplotlib.pyplot as plt\n",
    "\n",
    "sys.path.append('../')\n",
    "\n",
    "warnings.filterwarnings(\"ignore\", category=np.VisibleDeprecationWarning)\n",
    "\n",
    "import prep\n",
    "from warp import *"
   ]
  },
  {
   "cell_type": "code",
   "execution_count": 2,
   "metadata": {
    "collapsed": false,
    "deletable": true,
    "editable": true
   },
   "outputs": [],
   "source": [
    "target_kern_name = 'vectoradd'\n",
    "trace_file = 'trace64.csv'\n",
    "metrics_file = 'metrics64.csv'\n",
    "sass_result = 'vectorAdd_bs64.sm52.sass.result'\n",
    "    \n",
    "# read trace and metrics into dataframe, from generated trace file\n",
    "df_kernel_trace, df_metrics = prep.Prep_trace_metrics(trace_file, metrics_file)\n",
    "    \n",
    "out_columns = prep.init_df_columns(df_metrics)\n",
    "df_kern = pd.DataFrame(columns=out_columns)\n",
    "    \n",
    "# current kernel trace\n",
    "df_current = prep.GenCurKernInfo(df_kernel_trace, df_metrics,target_kern_name, out_columns)\n",
    "    \n",
    "# add current trace\n",
    "df_kern = df_kern.append(df_current, ignore_index=True)"
   ]
  },
  {
   "cell_type": "code",
   "execution_count": 3,
   "metadata": {
    "collapsed": false,
    "deletable": true,
    "editable": true
   },
   "outputs": [
    {
     "data": {
      "text/html": [
       "<div>\n",
       "<table border=\"1\" class=\"dataframe\">\n",
       "  <thead>\n",
       "    <tr style=\"text-align: right;\">\n",
       "      <th></th>\n",
       "      <th>kern_name</th>\n",
       "      <th>duration_ms</th>\n",
       "      <th>gridx</th>\n",
       "      <th>gridy</th>\n",
       "      <th>gridz</th>\n",
       "      <th>blkx</th>\n",
       "      <th>blky</th>\n",
       "      <th>blkz</th>\n",
       "      <th>reg_per_thread</th>\n",
       "      <th>shared_mem</th>\n",
       "      <th>...</th>\n",
       "      <th>l2_utilization</th>\n",
       "      <th>l2_atomic_throughput</th>\n",
       "      <th>l2_atomic_transactions</th>\n",
       "      <th>sysmem_utilization</th>\n",
       "      <th>ecc_throughput</th>\n",
       "      <th>sysmem_read_utilization</th>\n",
       "      <th>sysmem_write_utilization</th>\n",
       "      <th>eligible_warps_per_cycle</th>\n",
       "      <th>flop_sp_efficiency</th>\n",
       "      <th>flop_dp_efficiency</th>\n",
       "    </tr>\n",
       "  </thead>\n",
       "  <tbody>\n",
       "    <tr>\n",
       "      <th>0</th>\n",
       "      <td>vectoradd</td>\n",
       "      <td>0.004512</td>\n",
       "      <td>782.0</td>\n",
       "      <td>1.0</td>\n",
       "      <td>1.0</td>\n",
       "      <td>64.0</td>\n",
       "      <td>1.0</td>\n",
       "      <td>1.0</td>\n",
       "      <td>8.0</td>\n",
       "      <td>0.0</td>\n",
       "      <td>...</td>\n",
       "      <td>Low (3)</td>\n",
       "      <td>0.000000B/s</td>\n",
       "      <td>0</td>\n",
       "      <td>Low (1)</td>\n",
       "      <td>0.000000B/s</td>\n",
       "      <td>Idle (0)</td>\n",
       "      <td>Low (1)</td>\n",
       "      <td>1.583276</td>\n",
       "      <td>0.412679%</td>\n",
       "      <td>0.000000%</td>\n",
       "    </tr>\n",
       "  </tbody>\n",
       "</table>\n",
       "<p>1 rows × 123 columns</p>\n",
       "</div>"
      ],
      "text/plain": [
       "   kern_name  duration_ms  gridx  gridy  gridz  blkx  blky  blkz  \\\n",
       "0  vectoradd     0.004512  782.0    1.0    1.0  64.0   1.0   1.0   \n",
       "\n",
       "   reg_per_thread  shared_mem        ...         l2_utilization  \\\n",
       "0             8.0         0.0        ...                Low (3)   \n",
       "\n",
       "  l2_atomic_throughput l2_atomic_transactions sysmem_utilization  \\\n",
       "0          0.000000B/s                      0            Low (1)   \n",
       "\n",
       "  ecc_throughput sysmem_read_utilization sysmem_write_utilization  \\\n",
       "0    0.000000B/s                Idle (0)                  Low (1)   \n",
       "\n",
       "  eligible_warps_per_cycle flop_sp_efficiency flop_dp_efficiency  \n",
       "0                 1.583276          0.412679%          0.000000%  \n",
       "\n",
       "[1 rows x 123 columns]"
      ]
     },
     "execution_count": 3,
     "metadata": {},
     "output_type": "execute_result"
    }
   ],
   "source": [
    "df_kern"
   ]
  },
  {
   "cell_type": "code",
   "execution_count": 4,
   "metadata": {
    "collapsed": true,
    "deletable": true,
    "editable": true
   },
   "outputs": [],
   "source": [
    "df_kern.to_csv('kernel_stat_bs64.csv', index=False, encoding='utf-8')"
   ]
  },
  {
   "cell_type": "code",
   "execution_count": 5,
   "metadata": {
    "collapsed": false,
    "deletable": true,
    "editable": true
   },
   "outputs": [
    {
     "name": "stdout",
     "output_type": "stream",
     "text": [
      "LDG (global load) clocks (per warp) \t\t = 650.0\n",
      "STG (global store) clocks (per warp) \t\t = 19.0\n",
      "LDS (shared memory load) clocks (per warp) \t = 0.0\n",
      "STS (shared memory store) clocks (per warp) \t = 0.0\n",
      "=> Memory inst. (per warp) \t\t\t = 669.0 (clocks)\n",
      "\n",
      "Integer inst. (per warp) \t\t = 180.0 (clocks)\n",
      "FP32 inst. (per warp) \t\t\t = 15.0 (clocks)\n",
      "FP64 inst. (per warp) \t\t\t = 0.0 (clocks)\n",
      "Compute load store inst. (per warp) \t = 45.0 (clocks)\n",
      "=> Compute inst. (per warp) \t\t = 240.0 (clocks)\n",
      "\n",
      "Memory Intensive : mem / cmp = 2.7875\n"
     ]
    }
   ],
   "source": [
    "warp_inst = WarpInst()\n",
    "warp_inst.run(df_kern, sass_result)"
   ]
  }
 ],
 "metadata": {
  "kernelspec": {
   "display_name": "Python [conda root]",
   "language": "python",
   "name": "conda-root-py"
  },
  "language_info": {
   "codemirror_mode": {
    "name": "ipython",
    "version": 2
   },
   "file_extension": ".py",
   "mimetype": "text/x-python",
   "name": "python",
   "nbconvert_exporter": "python",
   "pygments_lexer": "ipython2",
   "version": "2.7.13"
  }
 },
 "nbformat": 4,
 "nbformat_minor": 2
}

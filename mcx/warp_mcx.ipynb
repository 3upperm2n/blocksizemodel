{
 "cells": [
  {
   "cell_type": "code",
   "execution_count": 12,
   "metadata": {
    "collapsed": false,
    "deletable": true,
    "editable": true
   },
   "outputs": [
    {
     "name": "stdout",
     "output_type": "stream",
     "text": [
      "The autoreload extension is already loaded. To reload it, use:\n",
      "  %reload_ext autoreload\n"
     ]
    }
   ],
   "source": [
    "%load_ext autoreload\n",
    "%autoreload 2\n",
    "\n",
    "import warnings\n",
    "import pandas as pd\n",
    "import numpy as np\n",
    "import os\n",
    "import sys # error msg, add the modules\n",
    "import operator # sorting\n",
    "from math import *\n",
    "import matplotlib.pyplot as plt\n",
    "\n",
    "sys.path.append('../')\n",
    "\n",
    "warnings.filterwarnings(\"ignore\", category=np.VisibleDeprecationWarning)\n",
    "\n",
    "import prep\n",
    "from warp import *"
   ]
  },
  {
   "cell_type": "code",
   "execution_count": 13,
   "metadata": {
    "collapsed": false,
    "deletable": true,
    "editable": true
   },
   "outputs": [],
   "source": [
    "target_kern_name = 'mcx_main_loop'\n",
    "trace_file = 'trace_1e6.csv'\n",
    "metrics_file = 'metrics_1e6.csv'\n",
    "sass_result = 'mcx.sm52.sass.result'\n",
    "    \n",
    "# read trace and metrics into dataframe, from generated trace file\n",
    "df_kernel_trace, df_metrics = prep.Prep_trace_metrics(trace_file, metrics_file)\n",
    "    \n",
    "out_columns = prep.init_df_columns(df_metrics)\n",
    "df_kern = pd.DataFrame(columns=out_columns)\n",
    "    \n",
    "# current kernel trace\n",
    "df_current = prep.GenCurKernInfo(df_kernel_trace, df_metrics,target_kern_name, out_columns)\n",
    "    \n",
    "# add current trace\n",
    "df_kern = df_kern.append(df_current, ignore_index=True)"
   ]
  },
  {
   "cell_type": "code",
   "execution_count": 14,
   "metadata": {
    "collapsed": false,
    "deletable": true,
    "editable": true
   },
   "outputs": [
    {
     "data": {
      "text/html": [
       "<div>\n",
       "<table border=\"1\" class=\"dataframe\">\n",
       "  <thead>\n",
       "    <tr style=\"text-align: right;\">\n",
       "      <th></th>\n",
       "      <th>kern_name</th>\n",
       "      <th>duration_ms</th>\n",
       "      <th>gridx</th>\n",
       "      <th>gridy</th>\n",
       "      <th>gridz</th>\n",
       "      <th>blkx</th>\n",
       "      <th>blky</th>\n",
       "      <th>blkz</th>\n",
       "      <th>reg_per_thread</th>\n",
       "      <th>shared_mem</th>\n",
       "      <th>...</th>\n",
       "      <th>l2_utilization</th>\n",
       "      <th>l2_atomic_throughput</th>\n",
       "      <th>l2_atomic_transactions</th>\n",
       "      <th>sysmem_utilization</th>\n",
       "      <th>ecc_throughput</th>\n",
       "      <th>sysmem_read_utilization</th>\n",
       "      <th>sysmem_write_utilization</th>\n",
       "      <th>eligible_warps_per_cycle</th>\n",
       "      <th>flop_sp_efficiency</th>\n",
       "      <th>flop_dp_efficiency</th>\n",
       "    </tr>\n",
       "  </thead>\n",
       "  <tbody>\n",
       "    <tr>\n",
       "      <th>0</th>\n",
       "      <td>mcx_main_loop</td>\n",
       "      <td>181.664061</td>\n",
       "      <td>192.0</td>\n",
       "      <td>1.0</td>\n",
       "      <td>1.0</td>\n",
       "      <td>64.0</td>\n",
       "      <td>1.0</td>\n",
       "      <td>1.0</td>\n",
       "      <td>68.0</td>\n",
       "      <td>2250.0</td>\n",
       "      <td>...</td>\n",
       "      <td>Low (3)</td>\n",
       "      <td>23.253262GB/s</td>\n",
       "      <td>242580238</td>\n",
       "      <td>Low (1)</td>\n",
       "      <td>0.000000B/s</td>\n",
       "      <td>Low (1)</td>\n",
       "      <td>Low (1)</td>\n",
       "      <td>5.086808</td>\n",
       "      <td>3.642482%</td>\n",
       "      <td>0.000000%</td>\n",
       "    </tr>\n",
       "  </tbody>\n",
       "</table>\n",
       "<p>1 rows × 123 columns</p>\n",
       "</div>"
      ],
      "text/plain": [
       "       kern_name  duration_ms  gridx  gridy  gridz  blkx  blky  blkz  \\\n",
       "0  mcx_main_loop   181.664061  192.0    1.0    1.0  64.0   1.0   1.0   \n",
       "\n",
       "   reg_per_thread  shared_mem        ...         l2_utilization  \\\n",
       "0            68.0      2250.0        ...                Low (3)   \n",
       "\n",
       "  l2_atomic_throughput l2_atomic_transactions sysmem_utilization  \\\n",
       "0        23.253262GB/s              242580238            Low (1)   \n",
       "\n",
       "  ecc_throughput sysmem_read_utilization sysmem_write_utilization  \\\n",
       "0    0.000000B/s                 Low (1)                  Low (1)   \n",
       "\n",
       "  eligible_warps_per_cycle flop_sp_efficiency flop_dp_efficiency  \n",
       "0                 5.086808          3.642482%          0.000000%  \n",
       "\n",
       "[1 rows x 123 columns]"
      ]
     },
     "execution_count": 14,
     "metadata": {},
     "output_type": "execute_result"
    }
   ],
   "source": [
    "df_kern"
   ]
  },
  {
   "cell_type": "code",
   "execution_count": 15,
   "metadata": {
    "collapsed": true,
    "deletable": true,
    "editable": true
   },
   "outputs": [],
   "source": [
    "df_kern.to_csv('kernel_stat.csv', index=False, encoding='utf-8')"
   ]
  },
  {
   "cell_type": "code",
   "execution_count": 16,
   "metadata": {
    "collapsed": false,
    "deletable": true,
    "editable": true
   },
   "outputs": [
    {
     "name": "stdout",
     "output_type": "stream",
     "text": [
      "ldg (global load) clks (per warp) \t = 10632700.0\n",
      "stg (global store) clks (per warp) \t = 57.0\n",
      "lds (shared load) clks (per warp) \t =  404378.0\n",
      "sts (shared store) clks (per warp) \t = 119225.0\n",
      "=> Memory inst. (per warp) \t\t = 11156360.0 (clocks)\n",
      "\n",
      "Integer inst. (per warp) \t= 17139240.0 (clocks)\n",
      "FP32 inst. (per warp) \t\t= 21513795.0 (clocks)\n",
      "FP64 inst. (per warp) \t\t= 955011.0 (clocks)\n",
      "Compute ldst inst. (per warp) \t= 2482380.0 (clocks)\n",
      "=> Compute inst. (per warp) \t= 42090426.0 (clocks)\n",
      "\n",
      "Compute-intensive Warp : compute_clk / mem_clk = 3.77277409478\n"
     ]
    }
   ],
   "source": [
    "warp_inst = WarpInst()\n",
    "warp_inst.run(df_kern, sass_result)"
   ]
  }
 ],
 "metadata": {
  "kernelspec": {
   "display_name": "Python [conda root]",
   "language": "python",
   "name": "conda-root-py"
  },
  "language_info": {
   "codemirror_mode": {
    "name": "ipython",
    "version": 2
   },
   "file_extension": ".py",
   "mimetype": "text/x-python",
   "name": "python",
   "nbconvert_exporter": "python",
   "pygments_lexer": "ipython2",
   "version": "2.7.13"
  }
 },
 "nbformat": 4,
 "nbformat_minor": 2
}

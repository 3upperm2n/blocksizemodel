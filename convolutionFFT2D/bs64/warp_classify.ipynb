{
 "cells": [
  {
   "cell_type": "code",
   "execution_count": 49,
   "metadata": {
    "collapsed": false,
    "deletable": true,
    "editable": true
   },
   "outputs": [
    {
     "name": "stdout",
     "output_type": "stream",
     "text": [
      "The autoreload extension is already loaded. To reload it, use:\n",
      "  %reload_ext autoreload\n"
     ]
    }
   ],
   "source": [
    "%load_ext autoreload\n",
    "%autoreload 2\n",
    "\n",
    "import warnings\n",
    "import pandas as pd\n",
    "import numpy as np\n",
    "import os\n",
    "import sys # error msg, add the modules\n",
    "import operator # sorting\n",
    "from math import *\n",
    "import matplotlib.pyplot as plt\n",
    "\n",
    "sys.path.append('../../')\n",
    "\n",
    "warnings.filterwarnings(\"ignore\", category=np.VisibleDeprecationWarning)\n",
    "\n",
    "import prep\n",
    "from warp import *"
   ]
  },
  {
   "cell_type": "code",
   "execution_count": 50,
   "metadata": {
    "collapsed": true
   },
   "outputs": [],
   "source": [
    "trace_file = 'trace.csv'\n",
    "metrics_file = 'metrics.csv'\n",
    "\n",
    "# read trace and metrics into dataframe, from generated trace file\n",
    "df_kernel_trace, df_metrics = prep.Prep_trace_metrics(trace_file, metrics_file)"
   ]
  },
  {
   "cell_type": "code",
   "execution_count": 51,
   "metadata": {
    "collapsed": false
   },
   "outputs": [
    {
     "name": "stdout",
     "output_type": "stream",
     "text": [
      "padKernel_kernel\n",
      "padDataClampToBorder_kernel\n",
      "spRadix0032B::kernel1Tex\n",
      "spRadix0064B::kernel1Tex\n",
      "spVector1024C::kernelTex\n",
      "modulateAndNormalize_kernel\n",
      "spPostprocess2D_kernel\n",
      "spPreprocess2D_kernel\n",
      "spProcess2D_kernel\n"
     ]
    }
   ],
   "source": [
    "unique_kerns = []\n",
    "for index, kenname in enumerate(df_kernel_trace.Name.unique()):\n",
    "    if index > 0:\n",
    "        head = kenname.split('(')[0]\n",
    "        if '<' in head:\n",
    "            head = head.split('<')[0]\n",
    "        #print head\n",
    "    \n",
    "        if 'void' in head:\n",
    "            head = head.split(' ')\n",
    "            #print head[1]\n",
    "            head = head[1]\n",
    "            \n",
    "        if head not in unique_kerns:\n",
    "            unique_kerns.append(head)\n",
    "            print head"
   ]
  },
  {
   "cell_type": "code",
   "execution_count": 52,
   "metadata": {
    "collapsed": false,
    "deletable": true,
    "editable": true
   },
   "outputs": [
    {
     "name": "stdout",
     "output_type": "stream",
     "text": [
      "LDG (global load) clocks (per warp) \t\t = 0.0\n",
      "STG (global store) clocks (per warp) \t\t = 19.0\n",
      "LDS (shared memory load) clocks (per warp) \t = 0.0\n",
      "STS (shared memory store) clocks (per warp) \t = 0.0\n",
      "=> Memory inst. (per warp) \t\t\t = 19.0 (clocks)\n",
      "\n",
      "Integer inst. (per warp) \t\t = 165.0 (clocks)\n",
      "FP32 inst. (per warp) \t\t\t = 0.0 (clocks)\n",
      "FP64 inst. (per warp) \t\t\t = 0.0 (clocks)\n",
      "Compute load store inst. (per warp) \t = 15.0 (clocks)\n",
      "=> Compute inst. (per warp) \t\t = 180.0 (clocks)\n",
      "\n",
      "Compute Intensive : cmp / mem = 9.47368421053\n"
     ]
    }
   ],
   "source": [
    "target_kern_name = 'padKernel_kernel'\n",
    "sass_result = 'padKernel_kernel.sm_52.sass.result'\n",
    "    \n",
    "out_columns = prep.init_df_columns(df_metrics)\n",
    "\n",
    "df_kern = pd.DataFrame(columns=out_columns)\n",
    "\n",
    "# current kernel trace\n",
    "df_current = prep.GenCurKernInfo(df_kernel_trace, df_metrics,target_kern_name, out_columns)\n",
    "    \n",
    "# add current trace\n",
    "df_kern = df_kern.append(df_current, ignore_index=True)\n",
    "\n",
    "#df_kern.to_csv('kernel_stat.csv', index=False, encoding='utf-8')\n",
    "\n",
    "warp_inst = WarpInst()\n",
    "\n",
    "warp_inst.run(df_kern, sass_result)"
   ]
  },
  {
   "cell_type": "code",
   "execution_count": 53,
   "metadata": {
    "collapsed": false
   },
   "outputs": [
    {
     "name": "stdout",
     "output_type": "stream",
     "text": [
      "LDG (global load) clocks (per warp) \t\t = 0.0\n",
      "STG (global store) clocks (per warp) \t\t = 19.0\n",
      "LDS (shared memory load) clocks (per warp) \t = 0.0\n",
      "STS (shared memory store) clocks (per warp) \t = 0.0\n",
      "=> Memory inst. (per warp) \t\t\t = 19.0 (clocks)\n",
      "\n",
      "Integer inst. (per warp) \t\t = 390.0 (clocks)\n",
      "FP32 inst. (per warp) \t\t\t = 0.0 (clocks)\n",
      "FP64 inst. (per warp) \t\t\t = 0.0 (clocks)\n",
      "Compute load store inst. (per warp) \t = 30.0 (clocks)\n",
      "=> Compute inst. (per warp) \t\t = 420.0 (clocks)\n",
      "\n",
      "Compute Intensive : cmp / mem = 22.1052631579\n"
     ]
    }
   ],
   "source": [
    "target_kern_name = 'padDataClampToBorder_kernel'\n",
    "sass_result = 'padDataClampToBorder_kernel.sm_52.sass.result'\n",
    "    \n",
    "out_columns = prep.init_df_columns(df_metrics)\n",
    "\n",
    "df_kern = pd.DataFrame(columns=out_columns)\n",
    "\n",
    "# current kernel trace\n",
    "df_current = prep.GenCurKernInfo(df_kernel_trace, df_metrics,target_kern_name, out_columns)\n",
    "    \n",
    "# add current trace\n",
    "df_kern = df_kern.append(df_current, ignore_index=True)\n",
    "\n",
    "#df_kern.to_csv('kernel_stat.csv', index=False, encoding='utf-8')\n",
    "\n",
    "warp_inst = WarpInst()\n",
    "\n",
    "warp_inst.run(df_kern, sass_result)"
   ]
  },
  {
   "cell_type": "code",
   "execution_count": 54,
   "metadata": {
    "collapsed": false
   },
   "outputs": [
    {
     "name": "stdout",
     "output_type": "stream",
     "text": [
      "LDG (global load) clocks (per warp) \t\t = 650.0\n",
      "STG (global store) clocks (per warp) \t\t = 19.0\n",
      "LDS (shared memory load) clocks (per warp) \t = 0.0\n",
      "STS (shared memory store) clocks (per warp) \t = 0.0\n",
      "=> Memory inst. (per warp) \t\t\t = 669.0 (clocks)\n",
      "\n",
      "Integer inst. (per warp) \t\t = 150.0 (clocks)\n",
      "FP32 inst. (per warp) \t\t\t = 90.0 (clocks)\n",
      "FP64 inst. (per warp) \t\t\t = 0.0 (clocks)\n",
      "Compute load store inst. (per warp) \t = 45.0 (clocks)\n",
      "=> Compute inst. (per warp) \t\t = 285.0 (clocks)\n",
      "\n",
      "Memory Intensive : mem / cmp = 2.34736842105\n"
     ]
    }
   ],
   "source": [
    "target_kern_name = 'modulateAndNormalize_kernel'\n",
    "sass_result = 'modulateAndNormalize_kernel.sm_52.sass.result'\n",
    "    \n",
    "out_columns = prep.init_df_columns(df_metrics)\n",
    "\n",
    "df_kern = pd.DataFrame(columns=out_columns)\n",
    "\n",
    "# current kernel trace\n",
    "df_current = prep.GenCurKernInfo(df_kernel_trace, df_metrics,target_kern_name, out_columns)\n",
    "    \n",
    "# add current trace\n",
    "df_kern = df_kern.append(df_current, ignore_index=True)\n",
    "\n",
    "#df_kern.to_csv('kernel_stat.csv', index=False, encoding='utf-8')\n",
    "\n",
    "warp_inst = WarpInst()\n",
    "\n",
    "warp_inst.run(df_kern, sass_result)"
   ]
  },
  {
   "cell_type": "code",
   "execution_count": 55,
   "metadata": {
    "collapsed": false
   },
   "outputs": [
    {
     "name": "stdout",
     "output_type": "stream",
     "text": [
      "LDG (global load) clocks (per warp) \t\t = 0.0\n",
      "STG (global store) clocks (per warp) \t\t = 19.0\n",
      "LDS (shared memory load) clocks (per warp) \t = 0.0\n",
      "STS (shared memory store) clocks (per warp) \t = 0.0\n",
      "=> Memory inst. (per warp) \t\t\t = 19.0 (clocks)\n",
      "\n",
      "Integer inst. (per warp) \t\t = 795.0 (clocks)\n",
      "FP32 inst. (per warp) \t\t\t = 270.0 (clocks)\n",
      "FP64 inst. (per warp) \t\t\t = 0.0 (clocks)\n",
      "Compute load store inst. (per warp) \t = 75.0 (clocks)\n",
      "=> Compute inst. (per warp) \t\t = 1140.0 (clocks)\n",
      "\n",
      "Compute Intensive : cmp / mem = 60.0\n"
     ]
    }
   ],
   "source": [
    "target_kern_name = 'spPostprocess2D_kernel'\n",
    "sass_result = 'spPostprocess2D_kernel.sm_52.sass.result'\n",
    "    \n",
    "out_columns = prep.init_df_columns(df_metrics)\n",
    "\n",
    "df_kern = pd.DataFrame(columns=out_columns)\n",
    "\n",
    "# current kernel trace\n",
    "df_current = prep.GenCurKernInfo(df_kernel_trace, df_metrics,target_kern_name, out_columns)\n",
    "    \n",
    "# add current trace\n",
    "df_kern = df_kern.append(df_current, ignore_index=True)\n",
    "\n",
    "#df_kern.to_csv('kernel_stat.csv', index=False, encoding='utf-8')\n",
    "\n",
    "warp_inst = WarpInst()\n",
    "\n",
    "warp_inst.run(df_kern, sass_result)"
   ]
  },
  {
   "cell_type": "code",
   "execution_count": 56,
   "metadata": {
    "collapsed": false
   },
   "outputs": [
    {
     "name": "stdout",
     "output_type": "stream",
     "text": [
      "LDG (global load) clocks (per warp) \t\t = 0.0\n",
      "STG (global store) clocks (per warp) \t\t = 19.0\n",
      "LDS (shared memory load) clocks (per warp) \t = 0.0\n",
      "STS (shared memory store) clocks (per warp) \t = 0.0\n",
      "=> Memory inst. (per warp) \t\t\t = 19.0 (clocks)\n",
      "\n",
      "Integer inst. (per warp) \t\t = 795.0 (clocks)\n",
      "FP32 inst. (per warp) \t\t\t = 240.0 (clocks)\n",
      "FP64 inst. (per warp) \t\t\t = 0.0 (clocks)\n",
      "Compute load store inst. (per warp) \t = 75.0 (clocks)\n",
      "=> Compute inst. (per warp) \t\t = 1110.0 (clocks)\n",
      "\n",
      "Compute Intensive : cmp / mem = 58.4210526316\n"
     ]
    }
   ],
   "source": [
    "target_kern_name = 'spPreprocess2D_kernel'\n",
    "sass_result = 'spPreprocess2D_kernel.sm_52.sass.result'\n",
    "    \n",
    "out_columns = prep.init_df_columns(df_metrics)\n",
    "\n",
    "df_kern = pd.DataFrame(columns=out_columns)\n",
    "\n",
    "# current kernel trace\n",
    "df_current = prep.GenCurKernInfo(df_kernel_trace, df_metrics,target_kern_name, out_columns)\n",
    "    \n",
    "# add current trace\n",
    "df_kern = df_kern.append(df_current, ignore_index=True)\n",
    "\n",
    "warp_inst = WarpInst()\n",
    "\n",
    "warp_inst.run(df_kern, sass_result)"
   ]
  },
  {
   "cell_type": "code",
   "execution_count": 57,
   "metadata": {
    "collapsed": false
   },
   "outputs": [
    {
     "name": "stdout",
     "output_type": "stream",
     "text": [
      "LDG (global load) clocks (per warp) \t\t = 0.0\n",
      "STG (global store) clocks (per warp) \t\t = 19.0\n",
      "LDS (shared memory load) clocks (per warp) \t = 0.0\n",
      "STS (shared memory store) clocks (per warp) \t = 0.0\n",
      "=> Memory inst. (per warp) \t\t\t = 19.0 (clocks)\n",
      "\n",
      "Integer inst. (per warp) \t\t = 660.0 (clocks)\n",
      "FP32 inst. (per warp) \t\t\t = 810.0 (clocks)\n",
      "FP64 inst. (per warp) \t\t\t = 0.0 (clocks)\n",
      "Compute load store inst. (per warp) \t = 105.0 (clocks)\n",
      "=> Compute inst. (per warp) \t\t = 1575.0 (clocks)\n",
      "\n",
      "Compute Intensive : cmp / mem = 82.8947368421\n"
     ]
    }
   ],
   "source": [
    "target_kern_name = 'spProcess2D_kernel'\n",
    "sass_result = 'spProcess2D_kernel.sm_52.sass.result'\n",
    "    \n",
    "out_columns = prep.init_df_columns(df_metrics)\n",
    "\n",
    "df_kern = pd.DataFrame(columns=out_columns)\n",
    "\n",
    "# current kernel trace\n",
    "df_current = prep.GenCurKernInfo(df_kernel_trace, df_metrics,target_kern_name, out_columns)\n",
    "    \n",
    "# add current trace\n",
    "df_kern = df_kern.append(df_current, ignore_index=True)\n",
    "\n",
    "warp_inst = WarpInst()\n",
    "\n",
    "warp_inst.run(df_kern, sass_result)"
   ]
  }
 ],
 "metadata": {
  "kernelspec": {
   "display_name": "Python [conda root]",
   "language": "python",
   "name": "conda-root-py"
  },
  "language_info": {
   "codemirror_mode": {
    "name": "ipython",
    "version": 2
   },
   "file_extension": ".py",
   "mimetype": "text/x-python",
   "name": "python",
   "nbconvert_exporter": "python",
   "pygments_lexer": "ipython2",
   "version": "2.7.13"
  }
 },
 "nbformat": 4,
 "nbformat_minor": 2
}

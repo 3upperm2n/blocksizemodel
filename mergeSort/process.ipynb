{
 "cells": [
  {
   "cell_type": "code",
   "execution_count": 1,
   "metadata": {
    "collapsed": false
   },
   "outputs": [],
   "source": [
    "# 1) find the target kernel name and\n",
    "# 2) read gpu trace file\n",
    "# 3) read gpu metrics\n",
    "# 4) rearrange the information and combine them in the same dataframe\n",
    "# 5) save the result as csv file"
   ]
  },
  {
   "cell_type": "code",
   "execution_count": null,
   "metadata": {
    "collapsed": false
   },
   "outputs": [],
   "source": [
    "%load_ext autoreload\n",
    "%autoreload 2\n",
    "\n",
    "import warnings\n",
    "import pandas as pd\n",
    "import numpy as np\n",
    "import os\n",
    "import sys # error msg, add the modules\n",
    "import operator # sorting\n",
    "from math import *\n",
    "import matplotlib.pyplot as plt\n",
    "\n",
    "sys.path.append('../')\n",
    "\n",
    "warnings.filterwarnings(\"ignore\", category=np.VisibleDeprecationWarning)\n",
    "\n",
    "import prep"
   ]
  },
  {
   "cell_type": "code",
   "execution_count": null,
   "metadata": {
    "collapsed": false
   },
   "outputs": [],
   "source": [
    "bs_size = [128, 256, 512, 1024]\n",
    "\n",
    "target_kern_name = 'mergeSortSharedKernel'\n",
    "\n",
    "out_columns = None\n",
    "df_kern = None\n",
    "count = 0\n",
    "\n",
    "for bs in bs_size:\n",
    "    trace_file = 'trace'+str(bs)+'.csv'\n",
    "    metrics_file = 'metrics'+str(bs)+'.csv'\n",
    "    \n",
    "    # read trace and metrics into dataframe, from generated trace file\n",
    "    df_kernel_trace, df_metrics = prep.Prep_trace_metrics(trace_file, metrics_file)\n",
    "    \n",
    "    if count == 0:\n",
    "        out_columns = prep.init_df_columns(df_metrics)\n",
    "        # empty df\n",
    "        df_kern = pd.DataFrame(columns=out_columns)\n",
    "    \n",
    "    # current kernel trace\n",
    "    df_current = prep.GenCurKernInfo(df_kernel_trace, df_metrics,target_kern_name, out_columns)\n",
    "    \n",
    "    # add current trace\n",
    "    df_kern = df_kern.append(df_current, ignore_index=True)\n",
    "\n",
    "\n",
    "    count += 1\n"
   ]
  },
  {
   "cell_type": "code",
   "execution_count": null,
   "metadata": {
    "collapsed": false
   },
   "outputs": [],
   "source": [
    "df_kern"
   ]
  },
  {
   "cell_type": "code",
   "execution_count": null,
   "metadata": {
    "collapsed": true
   },
   "outputs": [],
   "source": [
    "df_kern.to_csv('results.csv', index=False, encoding='utf-8')"
   ]
  }
 ],
 "metadata": {
  "kernelspec": {
   "display_name": "Python [conda root]",
   "language": "python",
   "name": "conda-root-py"
  },
  "language_info": {
   "codemirror_mode": {
    "name": "ipython",
    "version": 2
   },
   "file_extension": ".py",
   "mimetype": "text/x-python",
   "name": "python",
   "nbconvert_exporter": "python",
   "pygments_lexer": "ipython2",
   "version": "2.7.13"
  }
 },
 "nbformat": 4,
 "nbformat_minor": 2
}

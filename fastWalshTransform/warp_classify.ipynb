{
 "cells": [
  {
   "cell_type": "code",
   "execution_count": 1,
   "metadata": {
    "collapsed": false,
    "deletable": true,
    "editable": true
   },
   "outputs": [],
   "source": [
    "%load_ext autoreload\n",
    "%autoreload 2\n",
    "\n",
    "import warnings\n",
    "import pandas as pd\n",
    "import numpy as np\n",
    "import os\n",
    "import sys # error msg, add the modules\n",
    "import operator # sorting\n",
    "from math import *\n",
    "import matplotlib.pyplot as plt\n",
    "\n",
    "sys.path.append('../')\n",
    "\n",
    "warnings.filterwarnings(\"ignore\", category=np.VisibleDeprecationWarning)\n",
    "\n",
    "import prep\n",
    "from warp import *"
   ]
  },
  {
   "cell_type": "code",
   "execution_count": 2,
   "metadata": {
    "collapsed": true,
    "deletable": true,
    "editable": true
   },
   "outputs": [],
   "source": [
    "trace_file = 'trace.csv'\n",
    "metrics_file = 'metrics.csv'\n",
    "\n",
    "# read trace and metrics into dataframe, from generated trace file\n",
    "df_kernel_trace, df_metrics = prep.Prep_trace_metrics(trace_file, metrics_file)"
   ]
  },
  {
   "cell_type": "code",
   "execution_count": 3,
   "metadata": {
    "collapsed": false,
    "deletable": true,
    "editable": true
   },
   "outputs": [
    {
     "name": "stdout",
     "output_type": "stream",
     "text": [
      "fwtBatch2Kernel\n",
      "fwtBatch1Kernel\n",
      "modulateKernel\n"
     ]
    }
   ],
   "source": [
    "unique_kerns = []\n",
    "for index, kenname in enumerate(df_kernel_trace.Name.unique()):\n",
    "    if index > 0 and 'memcpy' not in kenname:\n",
    "        head = kenname.split('(')[0]\n",
    "        if '<' in head:\n",
    "            head = head.split('<')[0]\n",
    "        #print head\n",
    "    \n",
    "        if 'void' in head:\n",
    "            head = head.split(' ')\n",
    "            #print head[1]\n",
    "            head = head[1]\n",
    "            \n",
    "        if head not in unique_kerns:\n",
    "            unique_kerns.append(head)\n",
    "            print head"
   ]
  },
  {
   "cell_type": "code",
   "execution_count": 4,
   "metadata": {
    "collapsed": false,
    "deletable": true,
    "editable": true
   },
   "outputs": [
    {
     "name": "stdout",
     "output_type": "stream",
     "text": [
      "LDG (global load) clocks (per warp) \t\t = 650.0\n",
      "STG (global store) clocks (per warp) \t\t = 19.0\n",
      "LDS (shared memory load) clocks (per warp) \t = 0.0\n",
      "STS (shared memory store) clocks (per warp) \t = 0.0\n",
      "=> Memory inst. (per warp) \t\t\t = 669.0 (clocks)\n",
      "\n",
      "Integer inst. (per warp) \t\t = 555.0 (clocks)\n",
      "FP32 inst. (per warp) \t\t\t = 120.0 (clocks)\n",
      "FP64 inst. (per warp) \t\t\t = 0.0 (clocks)\n",
      "Compute load store inst. (per warp) \t = 120.0 (clocks)\n",
      "=> Compute inst. (per warp) \t\t = 795.0 (clocks)\n",
      "\n",
      "Compute Intensive : cmp / mem = 1.18834080717\n"
     ]
    }
   ],
   "source": [
    "target_kern_name = 'fwtBatch2Kernel'\n",
    "sass_result = 'fwtBatch2Kernel.sm_52.sass.result'\n",
    "    \n",
    "out_columns = prep.init_df_columns(df_metrics)\n",
    "\n",
    "df_kern = pd.DataFrame(columns=out_columns)\n",
    "\n",
    "# current kernel trace\n",
    "df_current = prep.GenCurKernInfo(df_kernel_trace, df_metrics,target_kern_name, out_columns)\n",
    "    \n",
    "# add current trace\n",
    "df_kern = df_kern.append(df_current, ignore_index=True)\n",
    "\n",
    "#df_kern.to_csv('kernel_stat.csv', index=False, encoding='utf-8')\n",
    "\n",
    "warp_inst = WarpInst()\n",
    "\n",
    "warp_inst.run(df_kern, sass_result)"
   ]
  },
  {
   "cell_type": "code",
   "execution_count": 5,
   "metadata": {
    "collapsed": false,
    "deletable": true,
    "editable": true
   },
   "outputs": [
    {
     "name": "stdout",
     "output_type": "stream",
     "text": [
      "LDG (global load) clocks (per warp) \t\t = 650.0\n",
      "STG (global store) clocks (per warp) \t\t = 19.0\n",
      "LDS (shared memory load) clocks (per warp) \t = 52.0\n",
      "STS (shared memory store) clocks (per warp) \t = 38.0\n",
      "=> Memory inst. (per warp) \t\t\t = 759.0 (clocks)\n",
      "\n",
      "Integer inst. (per warp) \t\t = 2310.0 (clocks)\n",
      "FP32 inst. (per warp) \t\t\t = 660.0 (clocks)\n",
      "FP64 inst. (per warp) \t\t\t = 0.0 (clocks)\n",
      "Compute load store inst. (per warp) \t = 900.0 (clocks)\n",
      "=> Compute inst. (per warp) \t\t = 3870.0 (clocks)\n",
      "\n",
      "Compute Intensive : cmp / mem = 5.09881422925\n"
     ]
    }
   ],
   "source": [
    "target_kern_name = 'fwtBatch1Kernel'\n",
    "sass_result = 'fwtBatch1Kernel.sm_52.sass.result'\n",
    "    \n",
    "out_columns = prep.init_df_columns(df_metrics)\n",
    "\n",
    "df_kern = pd.DataFrame(columns=out_columns)\n",
    "\n",
    "# current kernel trace\n",
    "df_current = prep.GenCurKernInfo(df_kernel_trace, df_metrics,target_kern_name, out_columns)\n",
    "    \n",
    "# add current trace\n",
    "df_kern = df_kern.append(df_current, ignore_index=True)\n",
    "\n",
    "#df_kern.to_csv('kernel_stat.csv', index=False, encoding='utf-8')\n",
    "\n",
    "warp_inst = WarpInst()\n",
    "\n",
    "warp_inst.run(df_kern, sass_result)"
   ]
  },
  {
   "cell_type": "code",
   "execution_count": 6,
   "metadata": {
    "collapsed": false
   },
   "outputs": [
    {
     "name": "stdout",
     "output_type": "stream",
     "text": [
      "LDG (global load) clocks (per warp) \t\t = 83200.0\n",
      "STG (global store) clocks (per warp) \t\t = 608.0\n",
      "LDS (shared memory load) clocks (per warp) \t = 0.0\n",
      "STS (shared memory store) clocks (per warp) \t = 0.0\n",
      "=> Memory inst. (per warp) \t\t\t = 83808.0 (clocks)\n",
      "\n",
      "Integer inst. (per warp) \t\t = 38505.0 (clocks)\n",
      "FP32 inst. (per warp) \t\t\t = 7740.0 (clocks)\n",
      "FP64 inst. (per warp) \t\t\t = 0.0 (clocks)\n",
      "Compute load store inst. (per warp) \t = 11520.0 (clocks)\n",
      "=> Compute inst. (per warp) \t\t = 57765.0 (clocks)\n",
      "\n",
      "Memory Intensive : mem / cmp = 1.45084393664\n"
     ]
    }
   ],
   "source": [
    "target_kern_name = 'modulateKernel'\n",
    "sass_result = 'modulateKernel.sm_52.sass.result'\n",
    "    \n",
    "out_columns = prep.init_df_columns(df_metrics)\n",
    "\n",
    "df_kern = pd.DataFrame(columns=out_columns)\n",
    "\n",
    "# current kernel trace\n",
    "df_current = prep.GenCurKernInfo(df_kernel_trace, df_metrics,target_kern_name, out_columns)\n",
    "    \n",
    "# add current trace\n",
    "df_kern = df_kern.append(df_current, ignore_index=True)\n",
    "\n",
    "#df_kern.to_csv('kernel_stat.csv', index=False, encoding='utf-8')\n",
    "\n",
    "warp_inst = WarpInst()\n",
    "\n",
    "warp_inst.run(df_kern, sass_result)"
   ]
  }
 ],
 "metadata": {
  "kernelspec": {
   "display_name": "Python [conda root]",
   "language": "python",
   "name": "conda-root-py"
  },
  "language_info": {
   "codemirror_mode": {
    "name": "ipython",
    "version": 2
   },
   "file_extension": ".py",
   "mimetype": "text/x-python",
   "name": "python",
   "nbconvert_exporter": "python",
   "pygments_lexer": "ipython2",
   "version": "2.7.13"
  }
 },
 "nbformat": 4,
 "nbformat_minor": 2
}

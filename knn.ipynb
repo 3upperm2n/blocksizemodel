{
 "cells": [
  {
   "cell_type": "markdown",
   "metadata": {
    "deletable": true,
    "editable": true
   },
   "source": [
    "http://scikit-learn.org/stable/modules/generated/sklearn.neighbors.KNeighborsClassifier.html"
   ]
  },
  {
   "cell_type": "code",
   "execution_count": 1,
   "metadata": {
    "collapsed": true,
    "deletable": true,
    "editable": true
   },
   "outputs": [],
   "source": [
    "from sklearn.neighbors import KNeighborsClassifier"
   ]
  },
  {
   "cell_type": "code",
   "execution_count": 2,
   "metadata": {
    "collapsed": true,
    "deletable": true,
    "editable": true
   },
   "outputs": [],
   "source": [
    "X= [[0.841509434,0.699166,0.845695,0,0.1,0.156,0.967049],\n",
    "[0.749356223,1.611461,0.736916,0,0.2,0.3741,2.693249],\n",
    "[0.263510732,0.433383,0.130578,0,0.05,0.0897,0.451053],\n",
    "[0.245054945,3.621318,0.469305,0,0.55,0.8439,8.337038],\n",
    "[0.163020833,1.659765,0.985557,0,0.15,0.3789,2.231894],\n",
    "[0.017117117,0.89968,0.867267,0,0.15,0.2176,1.1261],\n",
    "[0.016666667,0.915847,0.866627,0,0.15,0.2164,1.143948],\n",
    "[0.012063492,0.803832,0.864758,0,0.15,0.1964,1.132905],\n",
    "[0.085321101,2.855849,0.974629,0,0.3,0.6225,4.848462],\n",
    "[0.000976412,0.413031,0.352385,1,0.1,0.0933,0.391748],\n",
    "[0.022222222,1.125201,0.747835,0,0.15,0.247,1.562166],\n",
    "[0.004683826,3.445772,0.982043,0,0.4,0.8123,9.188976],\n",
    "[0.004560456,3.249376,0.758469,0,0.45,0.7355,5.353005]]"
   ]
  },
  {
   "cell_type": "code",
   "execution_count": 3,
   "metadata": {
    "collapsed": true,
    "deletable": true,
    "editable": true
   },
   "outputs": [],
   "source": [
    "# y = [32,\n",
    "# 64,\n",
    "# 128,\n",
    "# 32,\n",
    "# 128,\n",
    "# 32,\n",
    "# 1024,\n",
    "# 16,\n",
    "# 64,\n",
    "# 32,\n",
    "# 128,\n",
    "# 128,\n",
    "# 256]\n",
    "\n",
    "y = [32,\n",
    "64,\n",
    "128,\n",
    "32,\n",
    "128,\n",
    "32,\n",
    "1024,\n",
    "32,\n",
    "     \n",
    "64,\n",
    "32,\n",
    "128,\n",
    "128,\n",
    "256]\n",
    "\n"
   ]
  },
  {
   "cell_type": "code",
   "execution_count": 4,
   "metadata": {
    "collapsed": true,
    "deletable": true,
    "editable": true
   },
   "outputs": [],
   "source": [
    "neigh = KNeighborsClassifier(n_neighbors=3)"
   ]
  },
  {
   "cell_type": "code",
   "execution_count": 5,
   "metadata": {
    "collapsed": false,
    "deletable": true,
    "editable": true
   },
   "outputs": [
    {
     "data": {
      "text/plain": [
       "KNeighborsClassifier(algorithm='auto', leaf_size=30, metric='minkowski',\n",
       "           metric_params=None, n_jobs=1, n_neighbors=3, p=2,\n",
       "           weights='uniform')"
      ]
     },
     "execution_count": 5,
     "metadata": {},
     "output_type": "execute_result"
    }
   ],
   "source": [
    "neigh.fit(X,y)"
   ]
  },
  {
   "cell_type": "code",
   "execution_count": 6,
   "metadata": {
    "collapsed": true,
    "deletable": true,
    "editable": true
   },
   "outputs": [],
   "source": [
    "test_X = [[0.26505697,2.948113,0.345524,0.4,0.45,0.65017471,5.086808]]"
   ]
  },
  {
   "cell_type": "code",
   "execution_count": 7,
   "metadata": {
    "collapsed": false
   },
   "outputs": [
    {
     "name": "stdout",
     "output_type": "stream",
     "text": [
      "(array([[ 0.75318168,  0.82259676,  2.86395076]]), array([[12,  8,  1]]))\n",
      "  (0, 12)\t1.0\n",
      "  (0, 8)\t1.0\n",
      "  (0, 1)\t1.0\n"
     ]
    }
   ],
   "source": [
    "print neigh.kneighbors(test_X)\n",
    "print neigh.kneighbors_graph(test_X)"
   ]
  },
  {
   "cell_type": "code",
   "execution_count": 8,
   "metadata": {
    "collapsed": false,
    "deletable": true,
    "editable": true
   },
   "outputs": [
    {
     "data": {
      "text/plain": [
       "array([64])"
      ]
     },
     "execution_count": 8,
     "metadata": {},
     "output_type": "execute_result"
    }
   ],
   "source": [
    "neigh.predict(test_X)"
   ]
  },
  {
   "cell_type": "code",
   "execution_count": 9,
   "metadata": {
    "collapsed": false,
    "deletable": true,
    "editable": true
   },
   "outputs": [
    {
     "data": {
      "text/plain": [
       "array([[ 0.        ,  0.66666667,  0.        ,  0.33333333,  0.        ]])"
      ]
     },
     "execution_count": 9,
     "metadata": {},
     "output_type": "execute_result"
    }
   ],
   "source": [
    "neigh.predict_proba(test_X)"
   ]
  },
  {
   "cell_type": "code",
   "execution_count": 10,
   "metadata": {
    "collapsed": false,
    "deletable": true,
    "editable": true
   },
   "outputs": [
    {
     "data": {
      "text/plain": [
       "array([  32,   64,  128,  256, 1024])"
      ]
     },
     "execution_count": 10,
     "metadata": {},
     "output_type": "execute_result"
    }
   ],
   "source": [
    "neigh.classes_"
   ]
  },
  {
   "cell_type": "markdown",
   "metadata": {
    "deletable": true,
    "editable": true
   },
   "source": [
    "### compute 2d - em_expectmu"
   ]
  },
  {
   "cell_type": "code",
   "execution_count": 11,
   "metadata": {
    "collapsed": true,
    "deletable": true,
    "editable": true
   },
   "outputs": [],
   "source": [
    "X = [[0.881481481,2.587229,0.907526,0,0.35,0.6005,4.322245],\n",
    "[0.495752896,1.257769,0.721808,0,0.1,0.3069,1.658795],\n",
    "[0.424892966,2.00134,0.98219,0,0.15,0.3513,1.958961],\n",
    "[0.105555556,0.17028,0.116339,0,0.05,0.0401,0.165949],\n",
    "[0.045238095,1.784725,0.854031,0,0.4,0.4464,3.497565],\n",
    "[0.032925682,1.702509,0.990866,0,0.15,0.3404,2.33181],\n",
    "[0.002206736,3.322614,0.699366,0,0.45,0.83,9.698005]]\n"
   ]
  },
  {
   "cell_type": "code",
   "execution_count": 12,
   "metadata": {
    "collapsed": true,
    "deletable": true,
    "editable": true
   },
   "outputs": [],
   "source": [
    "y = [256,\n",
    "256,\n",
    "256,\n",
    "128,\n",
    "128,\n",
    "256,\n",
    "768]"
   ]
  },
  {
   "cell_type": "code",
   "execution_count": 13,
   "metadata": {
    "collapsed": false,
    "deletable": true,
    "editable": true
   },
   "outputs": [
    {
     "data": {
      "text/plain": [
       "KNeighborsClassifier(algorithm='auto', leaf_size=30, metric='minkowski',\n",
       "           metric_params=None, n_jobs=1, n_neighbors=3, p=2,\n",
       "           weights='uniform')"
      ]
     },
     "execution_count": 13,
     "metadata": {},
     "output_type": "execute_result"
    }
   ],
   "source": [
    "neigh1 = KNeighborsClassifier(n_neighbors=3)\n",
    "\n",
    "neigh1.fit(X,y)"
   ]
  },
  {
   "cell_type": "code",
   "execution_count": 14,
   "metadata": {
    "collapsed": true,
    "deletable": true,
    "editable": true
   },
   "outputs": [],
   "source": [
    "test_em_expectmu = [[0.915384615,0.352684,0.124273,0,0.1,0.0722,0.307958]]"
   ]
  },
  {
   "cell_type": "code",
   "execution_count": 15,
   "metadata": {
    "collapsed": false,
    "deletable": true,
    "editable": true
   },
   "outputs": [
    {
     "name": "stdout",
     "output_type": "stream",
     "text": [
      "[256]\n",
      "[[ 0.33333333  0.66666667  0.        ]]\n",
      "[128 256 768]\n"
     ]
    }
   ],
   "source": [
    "print neigh1.predict(test_em_expectmu)\n",
    "print neigh1.predict_proba(test_em_expectmu)\n",
    "print neigh1.classes_"
   ]
  },
  {
   "cell_type": "markdown",
   "metadata": {
    "deletable": true,
    "editable": true
   },
   "source": [
    "### compute 2d - em_expectsigma_dev"
   ]
  },
  {
   "cell_type": "code",
   "execution_count": 16,
   "metadata": {
    "collapsed": false,
    "deletable": true,
    "editable": true
   },
   "outputs": [
    {
     "name": "stdout",
     "output_type": "stream",
     "text": [
      "[256]\n",
      "[[ 0.33333333  0.66666667  0.        ]]\n",
      "[128 256 768]\n"
     ]
    }
   ],
   "source": [
    "em_expectsigma_dev = [[0.545671642,1.262241,0.321989,0,0.15,0.2578,1.349711]]\n",
    "\n",
    "print neigh1.predict(test_em_expectmu)\n",
    "print neigh1.predict_proba(test_em_expectmu)\n",
    "print neigh1.classes_\n"
   ]
  },
  {
   "cell_type": "markdown",
   "metadata": {},
   "source": [
    "### mem 2d - hmm"
   ]
  },
  {
   "cell_type": "code",
   "execution_count": 17,
   "metadata": {
    "collapsed": true
   },
   "outputs": [],
   "source": [
    "mem2d_trainX=[[1.911111111,0.898519,1.273404,0.3188,0.3990453679,0.3990453679,0,0.6156719307,1,2.158354],\n",
    "[1.7,0.897425,1.434779,0.3589,0.3983864151,0.3983864151,0.6146552798,0.6146552798,2,2.505722],\n",
    "[1.830769231,0.891426,1.329263,0.3227,0.389767283,0.389767283,2.40545012,0.3006719453,4,1.8795],\n",
    "[2.163636364,0.899354,1.155747,0.2893,0.3871490377,0.3871490377,0.5973111637,0.5973111637,2,1.809195],\n",
    "[2.477777778,0.848605,0.338919,0.0847,0.1366144811,1.092986113,0,0,0,0.387801]]"
   ]
  },
  {
   "cell_type": "code",
   "execution_count": 18,
   "metadata": {
    "collapsed": true
   },
   "outputs": [],
   "source": [
    "mem2d_trainY=[512,\n",
    "512,\n",
    "64,\n",
    "128,\n",
    "64]"
   ]
  },
  {
   "cell_type": "code",
   "execution_count": 19,
   "metadata": {
    "collapsed": false
   },
   "outputs": [
    {
     "data": {
      "text/plain": [
       "KNeighborsClassifier(algorithm='auto', leaf_size=30, metric='minkowski',\n",
       "           metric_params=None, n_jobs=1, n_neighbors=3, p=2,\n",
       "           weights='uniform')"
      ]
     },
     "execution_count": 19,
     "metadata": {},
     "output_type": "execute_result"
    }
   ],
   "source": [
    "neigh_mem2d = KNeighborsClassifier(n_neighbors=3)\n",
    "neigh_mem2d.fit(mem2d_trainX, mem2d_trainY)"
   ]
  },
  {
   "cell_type": "code",
   "execution_count": 20,
   "metadata": {
    "collapsed": false
   },
   "outputs": [
    {
     "name": "stdout",
     "output_type": "stream",
     "text": [
      "[64]\n",
      "[[ 0.33333333  0.33333333  0.33333333]]\n",
      "[ 64 128 512]\n"
     ]
    }
   ],
   "source": [
    "em_gammaobs = [[2.23,0.296949,0.374258,0.1001,0.05629230189,0.05629230189,0,0,0,0.623941]]\n",
    "\n",
    "print neigh_mem2d.predict(em_gammaobs)\n",
    "print neigh_mem2d.predict_proba(em_gammaobs)\n",
    "print neigh_mem2d.classes_"
   ]
  },
  {
   "cell_type": "code",
   "execution_count": 21,
   "metadata": {
    "collapsed": false
   },
   "outputs": [
    {
     "name": "stdout",
     "output_type": "stream",
     "text": [
      "[64]\n",
      "[[ 0.33333333  0.33333333  0.33333333]]\n",
      "[ 64 128 512]\n"
     ]
    }
   ],
   "source": [
    "em_update_expectsigma = [[2.23,0.294736,0.41878,0.1103,0.1435730377,0.06827649057,0,0,0,0.603971]]\n",
    "\n",
    "print neigh_mem2d.predict(em_update_expectsigma)\n",
    "print neigh_mem2d.predict_proba(em_update_expectsigma)\n",
    "print neigh_mem2d.classes_"
   ]
  }
 ],
 "metadata": {
  "kernelspec": {
   "display_name": "Python [conda root]",
   "language": "python",
   "name": "conda-root-py"
  },
  "language_info": {
   "codemirror_mode": {
    "name": "ipython",
    "version": 2
   },
   "file_extension": ".py",
   "mimetype": "text/x-python",
   "name": "python",
   "nbconvert_exporter": "python",
   "pygments_lexer": "ipython2",
   "version": "2.7.13"
  }
 },
 "nbformat": 4,
 "nbformat_minor": 2
}
